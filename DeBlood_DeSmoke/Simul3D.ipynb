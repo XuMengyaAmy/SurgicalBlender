{
  "cells": [
    {
      "cell_type": "markdown",
      "metadata": {
        "id": "7wNjDKdQy35h"
      },
      "source": [
        "# Install"
      ]
    },
    {
      "cell_type": "code",
      "execution_count": null,
      "metadata": {
        "id": "z1EySlOXwwoa"
      },
      "outputs": [],
      "source": [
        "!pip install -r requirements.txt"
      ]
    },
    {
      "cell_type": "markdown",
      "metadata": {
        "id": "8daqlgVhw29P"
      },
      "source": [
        "# Datasets\n",
        "\n",
        "Use your own dataset by creating the appropriate folders and adding in the images.\n",
        "\n",
        "-   Create a dataset folder under `/dataset` for your dataset.\n",
        "-   Create subfolders `testA`, `testB`, `trainA`, and `trainB` under your dataset's folder. For example, place clear images in the `trainA` folder, hazy images in the `trainB` folder, and do the same for the `testA` and `testB` folders."
      ]
    },
    {
      "cell_type": "markdown",
      "metadata": {
        "id": "gdUz4116xhpm"
      },
      "source": [
        "# Pretrained models\n",
        "\n",
        "Add the provided model under `/pretrained/[NAME]` to `./checkpoints/[NAME]/latest_net_G.pt` (Pretrained models can be found [here](https://drive.google.com/drive/folders/1BScWxXajVd1JmN6TxylAscsOfZN8pgtM?usp=sharing).)\n",
        "\n",
        "Or add your own pretrained model to `./checkpoints/{NAME}/latest_net_G.pt`"
      ]
    },
    {
      "cell_type": "code",
      "execution_count": null,
      "metadata": {
        "id": "B75UqtKhxznS"
      },
      "outputs": [],
      "source": [
        "cp ./pretrained/experiment_name/latest_net_G_B.pth ./checkpoints/experiment_name/latest_net_G.pth"
      ]
    },
    {
      "cell_type": "markdown",
      "metadata": {
        "id": "yFw1kDQBx3LN"
      },
      "source": [
        "# Training\n",
        "\n",
        "-   `python train.py --dataroot /mnt/disk2_hdd/User/\"DeSmoke-LAP dataset\"/Simul_3D --n_epochs 75 --n_epochs_decay 50 --name deblood_iter1 --model cycle_gan --batch_size 16 --display_id -1 --gpu_ids 0,1 --preprocess scale_width_and_crop`\n",
        "\n",
        "Change the `--dataroot` and `--name` to your own dataset's path and model's name. Use `--gpu_ids 0,1,..` to train on multiple GPUs and `--batch_size` to change the batch size. I've found that a batch size of 16 fits onto 4 V100s and can finish training an epoch in ~90s.\n",
        "\n",
        "Once your model has trained, copy over the last checkpoint to a format that the testing model can automatically detect:\n",
        "\n",
        "<!-- Use `cp ./checkpoints/horse2zebra/latest_net_G_A.pth ./checkpoints/horse2zebra/latest_net_G.pth` if you want to transform images from class A to class B and `cp ./checkpoints/horse2zebra/latest_net_G_B.pth ./checkpoints/horse2zebra/latest_net_G.pth` if you want to transform images from class B to class A. -->\n"
      ]
    },
    {
      "cell_type": "markdown",
      "metadata": {},
      "source": [
        "Below are different commands with the configs as used in our training & testing"
      ]
    },
    {
      "cell_type": "code",
      "execution_count": null,
      "metadata": {},
      "outputs": [],
      "source": [
        "# Deblood iter 1\n",
        "!python train.py --dataroot /mnt/disk2_hdd/User/\"DeSmoke-LAP dataset\"/Simul_3D --n_epochs 75 --n_epochs_decay 50 --name deblood_iter1 --model cycle_gan --batch_size 16 --display_id -1 --gpu_ids 0,1 --preprocess scale_width_and_crop"
      ]
    },
    {
      "cell_type": "code",
      "execution_count": null,
      "metadata": {},
      "outputs": [],
      "source": [
        "# Pix to Pix Deblood iter 3\n",
        "!python train.py --dataroot /mnt/disk2_hdd/User/\"DeSmoke-LAP dataset\"/Simul_3D/pix --n_epochs 75 --n_epochs_decay 50 --name deblood_iter3_paired --model template --batch_size 128 --display_id -1 --gpu_ids 0,1 --continue_train --epoch_count 35 --dataset_mode template"
      ]
    },
    {
      "cell_type": "markdown",
      "metadata": {
        "id": "9UkcaFZiyASl"
      },
      "source": [
        "# Testing\n",
        "\n",
        "-   `python test.py --dataroot /mnt/disk2_hdd/User/\"DeSmoke-LAP dataset\"/Simul_3D/testA --name deblood_iter1 --model test --no_dropout --eval --num_test 1000`\n",
        "\n",
        "Change the `--dataroot` and `--name` to be consistent with your trained model's configuration.\n",
        "\n",
        "> from https://github.com/junyanz/pytorch-CycleGAN-and-pix2pix:\n",
        "> The option --model test is used for generating results of CycleGAN only for one side. This option will automatically set --dataset_mode single, which only loads the images from one set. On the contrary, using --model cycle_gan requires loading and generating results in both directions, which is sometimes unnecessary. The results will be saved at ./results/. Use --results_dir {directory_path_to_save_result} to specify the results directory.\n",
        "\n",
        "> For your own experiments, you might want to specify --netG, --norm, --no_dropout to match the generator architecture of the trained model."
      ]
    },
    {
      "cell_type": "code",
      "execution_count": null,
      "metadata": {},
      "outputs": [],
      "source": [
        "!python test.py --dataroot /mnt/disk2_hdd/User/\"DeSmoke-LAP dataset\"/Simul_3D/testA --name deblood_iter1 --model test --no_dropout --eval --num_test 1000"
      ]
    },
    {
      "cell_type": "code",
      "execution_count": null,
      "metadata": {},
      "outputs": [],
      "source": [
        " python test.py --dataroot /mnt/disk2_hdd/User/\"DeSmoke-LAP dataset\"/Simul_3D/pix --name deblood_iter3_paired_epoch115 --dataset_mode template --model template --no_dropout --eval --num_test 1000"
      ]
    }
  ],
  "metadata": {
    "accelerator": "GPU",
    "colab": {
      "collapsed_sections": [
        "8daqlgVhw29P",
        "iskhh8Ldll-u",
        "gdUz4116xhpm"
      ],
      "name": "DeSmoke-LAP.ipynb",
      "provenance": []
    },
    "kernelspec": {
      "display_name": "Python 3.9.12 64-bit ('omer')",
      "language": "python",
      "name": "python3"
    },
    "language_info": {
      "codemirror_mode": {
        "name": "ipython",
        "version": 3
      },
      "file_extension": ".py",
      "mimetype": "text/x-python",
      "name": "python",
      "nbconvert_exporter": "python",
      "pygments_lexer": "ipython3",
      "version": "3.9.12"
    },
    "vscode": {
      "interpreter": {
        "hash": "5e053092e32e03bbdd6d9c0b4915022d44fabf6f3f44b91e7c8e4da51b869f53"
      }
    }
  },
  "nbformat": 4,
  "nbformat_minor": 0
}
